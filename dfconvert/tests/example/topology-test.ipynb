{
    "cells": [
     {
      "cell_type": "code",
      "execution_count": 2289394591,
      "id": "8875639f-55c1-477c-84c8-0791f078258d",
      "metadata": {},
      "outputs": [
       {
        "data": {
         "text/plain": [
          "110"
         ]
        },
        "execution_count": 2289394591,
        "metadata": {
         "output_tag": "d"
        },
        "output_type": "execute_result"
       }
      ],
      "source": [
       "d = c$9c5808c3+50\n",
       "d"
      ]
     },
     {
      "cell_type": "code",
      "execution_count": 1777534531,
      "id": "69f30643-e28f-4059-958a-68ba71cded41",
      "metadata": {},
      "outputs": [
       {
        "data": {
         "text/plain": [
          "10"
         ]
        },
        "execution_count": 1777534531,
        "metadata": {
         "output_tag": "a"
        },
        "output_type": "execute_result"
       }
      ],
      "source": [
       "a = 10\n",
       "a"
      ]
     },
     {
      "cell_type": "code",
      "execution_count": 2623015107,
      "id": "9c5808c3-fe79-4b69-a0a2-076248ebf6dc",
      "metadata": {},
      "outputs": [
       {
        "data": {
         "text/plain": [
          "60"
         ]
        },
        "execution_count": 2623015107,
        "metadata": {
         "output_tag": "c"
        },
        "output_type": "execute_result"
       }
      ],
      "source": [
       "c = b$d3e8a196+40\n",
       "c"
      ]
     },
     {
      "cell_type": "code",
      "execution_count": 3555238294,
      "id": "d3e8a196-9c5c-434a-b52f-512af7b85edf",
      "metadata": {},
      "outputs": [
       {
        "data": {
         "text/plain": [
          "20"
         ]
        },
        "execution_count": 3555238294,
        "metadata": {
         "output_tag": "b"
        },
        "output_type": "execute_result"
       }
      ],
      "source": [
       "b = a$69f30643+10\n",
       "b"
      ]
     },
     {
      "cell_type": "code",
      "execution_count": null,
      "id": "28a869f4-3ea4-4c6c-965f-c3ab780a07c8",
      "metadata": {},
      "outputs": [],
      "source": []
     }
    ],
    "metadata": {
     "dfnotebook": true,
     "kernelspec": {
      "display_name": "DFPython 3",
      "language": "python",
      "name": "dfpython3"
     },
     "language_info": {
      "codemirror_mode": {
       "name": "ipython",
       "version": 3
      },
      "file_extension": ".py",
      "mimetype": "text/x-python",
      "name": "python",
      "nbconvert_exporter": "python",
      "pygments_lexer": "ipython3",
      "version": "3.12.3"
     }
    },
    "nbformat": 4,
    "nbformat_minor": 5
}
   