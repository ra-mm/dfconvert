{
    "cells": [
     {
      "cell_type": "code",
      "execution_count": 2476694585,
      "id": "939f5c39-e4c2-43d0-9d0b-24586d4fdca9",
      "metadata": {},
      "outputs": [
       {
        "data": {
         "text/plain": [
          "110"
         ]
        },
        "execution_count": 2476694585,
        "metadata": {},
        "output_type": "execute_result"
       }
      ],
      "source": [
       "Out['fab1715b'][0]+10"
      ]
     },
     {
      "cell_type": "code",
      "execution_count": 3926719771,
      "id": "ea0cfd1b-140a-429c-ba37-0664b0560f53",
      "metadata": {},
      "outputs": [
       {
        "data": {
         "text/plain": [
          "150"
         ]
        },
        "execution_count": 3926719771,
        "metadata": {},
        "output_type": "execute_result"
       }
      ],
      "source": [
       "Out['939f5c39']+40"
      ]
     },
     {
      "cell_type": "code",
      "execution_count": 1042213694,
      "id": "3e1eeb3e-ffb6-46fd-b86e-e78569d1d816",
      "metadata": {},
      "outputs": [
       {
        "data": {
         "text/plain": [
          "100"
         ]
        },
        "execution_count": 1042213694,
        "metadata": {},
        "output_type": "execute_result"
       }
      ],
      "source": [
       "100"
      ]
     },
     {
      "cell_type": "code",
      "execution_count": 4205932891,
      "id": "fab1715b-5955-491d-bf8c-961d6af58d35",
      "metadata": {},
      "outputs": [
       {
        "data": {
         "text/plain": [
          "100"
         ]
        },
        "execution_count": 4205932891,
        "metadata": {
         "output_tag": "[fab1715b][0]"
        },
        "output_type": "execute_result"
       },
       {
        "data": {
         "text/plain": [
          "130"
         ]
        },
        "execution_count": 4205932891,
        "metadata": {
         "output_tag": "b"
        },
        "output_type": "execute_result"
       }
      ],
      "source": [
       "b = a$a436a810+30\n",
       "a$a436a810,b"
      ]
     },
     {
      "cell_type": "code",
      "execution_count": 2755045392,
      "id": "a436a810-f08d-4f88-8f3d-559dffd0a6b0",
      "metadata": {},
      "outputs": [
       {
        "data": {
         "text/plain": [
          "100"
         ]
        },
        "execution_count": 2755045392,
        "metadata": {
         "output_tag": "a"
        },
        "output_type": "execute_result"
       }
      ],
      "source": [
       "a = Out['3e1eeb3e']"
      ]
     },
     {
      "cell_type": "code",
      "execution_count": 683695165,
      "id": "28c05c3d-3f29-4324-9bcc-8230d7e641ff",
      "metadata": {},
      "outputs": [
       {
        "data": {
         "text/plain": [
          "110"
         ]
        },
        "execution_count": 683695165,
        "metadata": {},
        "output_type": "execute_result"
       }
      ],
      "source": [
       "Out['3e1eeb3e']+10"
      ]
     },
     {
      "cell_type": "code",
      "execution_count": null,
      "id": "929d11e9-bd05-4e33-b780-88f8a9341b90",
      "metadata": {},
      "outputs": [],
      "source": []
     }
    ],
    "metadata": {
     "dfnotebook": true,
     "kernelspec": {
      "display_name": "DFPython 3",
      "language": "python",
      "name": "dfpython3"
     },
     "language_info": {
      "codemirror_mode": {
       "name": "ipython",
       "version": 3
      },
      "file_extension": ".py",
      "mimetype": "text/x-python",
      "name": "python",
      "nbconvert_exporter": "python",
      "pygments_lexer": "ipython3",
      "version": "3.12.3"
     }
    },
    "nbformat": 4,
    "nbformat_minor": 5
}
   