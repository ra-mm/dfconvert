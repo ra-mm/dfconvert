{
    "cells": [
     {
      "cell_type": "code",
      "execution_count": 291821448,
      "id": "1164d788-3c4f-4121-b51e-3aa7e31af9f9",
      "metadata": {},
      "outputs": [
       {
        "data": {
         "text/plain": [
          "3"
         ]
        },
        "execution_count": 291821448,
        "metadata": {
         "output_tag": "a"
        },
        "output_type": "execute_result"
       },
       {
        "data": {
         "text/plain": [
          "4"
         ]
        },
        "execution_count": 291821448,
        "metadata": {
         "output_tag": "[1164d788][1]"
        },
        "output_type": "execute_result"
       }
      ],
      "source": [
       "a = 3\n",
       "a, 4"
      ]
     },
     {
      "cell_type": "code",
      "execution_count": 92407219,
      "id": "058205b3-f570-4026-810c-59d9c1d082d2",
      "metadata": {},
      "outputs": [
       {
        "data": {
         "text/plain": [
          "4"
         ]
        },
        "execution_count": 92407219,
        "metadata": {},
        "output_type": "execute_result"
       }
      ],
      "source": [
       "Out['1164d788'][1]"
      ]
     },
     {
      "cell_type": "code",
      "execution_count": null,
      "id": "c9dcd3c7-ce0c-4bfe-932f-b8052dfa94b5",
      "metadata": {},
      "outputs": [],
      "source": []
     }
    ],
    "metadata": {
     "dfnotebook": true,
     "kernelspec": {
      "display_name": "DFPython 3",
      "language": "python",
      "name": "dfpython3"
     },
     "language_info": {
      "codemirror_mode": {
       "name": "ipython",
       "version": 3
      },
      "file_extension": ".py",
      "mimetype": "text/x-python",
      "name": "python",
      "nbconvert_exporter": "python",
      "pygments_lexer": "ipython3",
      "version": "3.12.3"
     }
    },
    "nbformat": 4,
    "nbformat_minor": 5
}
   