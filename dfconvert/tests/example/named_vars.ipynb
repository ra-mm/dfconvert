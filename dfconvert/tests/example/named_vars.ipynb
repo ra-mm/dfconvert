{
    "cells": [
     {
      "cell_type": "code",
      "execution_count": 3667783208,
      "id": "da9dee28-6642-42f3-9765-65dfa24bb7b4",
      "metadata": {},
      "outputs": [
       {
        "data": {
         "text/plain": [
          "106"
         ]
        },
        "execution_count": 3667783208,
        "metadata": {},
        "output_type": "execute_result"
       }
      ],
      "source": [
       "d$9746bcab+e$d666a8be"
      ]
     },
     {
      "cell_type": "code",
      "execution_count": 4292426794,
      "id": "ffd93c2a-190f-4b91-84ea-05961ed64828",
      "metadata": {},
      "outputs": [
       {
        "data": {
         "text/plain": [
          "10"
         ]
        },
        "execution_count": 4292426794,
        "metadata": {
         "output_tag": "a"
        },
        "output_type": "execute_result"
       }
      ],
      "source": [
       "a = 10\n",
       "a"
      ]
     },
     {
      "cell_type": "code",
      "execution_count": 342901020,
      "id": "1470411c-9bd5-4d13-aaf3-4be1268dc75f",
      "metadata": {},
      "outputs": [
       {
        "data": {
         "text/plain": [
          "20"
         ]
        },
        "execution_count": 342901020,
        "metadata": {
         "output_tag": "b"
        },
        "output_type": "execute_result"
       },
       {
        "data": {
         "text/plain": [
          "30"
         ]
        },
        "execution_count": 342901020,
        "metadata": {
         "output_tag": "c"
        },
        "output_type": "execute_result"
       }
      ],
      "source": [
       "b,c = a$ffd93c2a+10,30\n",
       "b,c"
      ]
     },
     {
      "cell_type": "code",
      "execution_count": 2537995435,
      "id": "9746bcab-08aa-4d49-9ae2-ccc603803c35",
      "metadata": {},
      "outputs": [
       {
        "data": {
         "text/plain": [
          "60"
         ]
        },
        "execution_count": 2537995435,
        "metadata": {
         "output_tag": "d"
        },
        "output_type": "execute_result"
       }
      ],
      "source": [
       "d = b$1470411c+40\n",
       "d"
      ]
     },
     {
      "cell_type": "code",
      "execution_count": 3597052094,
      "id": "d666a8be-0aa3-4961-852b-ee747a564875",
      "metadata": {},
      "outputs": [
       {
        "data": {
         "text/plain": [
          "46"
         ]
        },
        "execution_count": 3597052094,
        "metadata": {
         "output_tag": "e"
        },
        "output_type": "execute_result"
       }
      ],
      "source": [
       "e = c$1470411c+16\n",
       "e"
      ]
     },
     {
      "cell_type": "code",
      "execution_count": null,
      "id": "e0203ff9-34b2-4521-ad58-345faff432d5",
      "metadata": {},
      "outputs": [],
      "source": []
     }
    ],
    "metadata": {
     "dfnotebook": true,
     "kernelspec": {
      "display_name": "DFPython 3",
      "language": "python",
      "name": "dfpython3"
     },
     "language_info": {
      "codemirror_mode": {
       "name": "ipython",
       "version": 3
      },
      "file_extension": ".py",
      "mimetype": "text/x-python",
      "name": "python",
      "nbconvert_exporter": "python",
      "pygments_lexer": "ipython3",
      "version": "3.12.3"
     }
    },
    "nbformat": 4,
    "nbformat_minor": 5
}
   