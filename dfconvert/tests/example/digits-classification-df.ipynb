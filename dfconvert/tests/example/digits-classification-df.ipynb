{
    "cells": [
     {
      "cell_type": "markdown",
      "id": "0459855e-3e41-418a-bd98-abc785a85b5c",
      "metadata": {},
      "source": [
       "# Recognizing hand-written digits\n",
       " * Orignial URL: http://scikit-learn.org/stable/auto_examples/classification/plot_digits_classification.html\n",
       " * Author: Gael Varoquaux (gael dot varoquaux at normalesup dot org)\n",
       " * License: BSD 3 clause\n",
       " * Dataflow Notebook Adaptation: Colin Brown, David Koop"
      ]
     },
     {
      "cell_type": "code",
      "execution_count": 1608800275,
      "id": "5fe45813-cd22-49ad-b90b-b4d4f0c9dc0f",
      "metadata": {},
      "outputs": [
       {
        "data": {
         "text/plain": [
          "<module 'sklearn.datasets' from 'C:\\\\Users\\\\DELL\\\\miniforge3\\\\envs\\\\dfnbenv\\\\Lib\\\\site-packages\\\\sklearn\\\\datasets\\\\__init__.py'>"
         ]
        },
        "execution_count": 1608800275,
        "metadata": {
         "output_tag": "datasets"
        },
        "output_type": "execute_result"
       },
       {
        "data": {
         "text/plain": [
          "<module 'sklearn.svm' from 'C:\\\\Users\\\\DELL\\\\miniforge3\\\\envs\\\\dfnbenv\\\\Lib\\\\site-packages\\\\sklearn\\\\svm\\\\__init__.py'>"
         ]
        },
        "execution_count": 1608800275,
        "metadata": {
         "output_tag": "svm"
        },
        "output_type": "execute_result"
       },
       {
        "data": {
         "text/plain": [
          "<module 'sklearn.metrics' from 'C:\\\\Users\\\\DELL\\\\miniforge3\\\\envs\\\\dfnbenv\\\\Lib\\\\site-packages\\\\sklearn\\\\metrics\\\\__init__.py'>"
         ]
        },
        "execution_count": 1608800275,
        "metadata": {
         "output_tag": "metrics"
        },
        "output_type": "execute_result"
       },
       {
        "data": {
         "text/plain": [
          "<module 'matplotlib.pyplot' from 'C:\\\\Users\\\\DELL\\\\miniforge3\\\\envs\\\\dfnbenv\\\\Lib\\\\site-packages\\\\matplotlib\\\\pyplot.py'>"
         ]
        },
        "execution_count": 1608800275,
        "metadata": {
         "output_tag": "plt"
        },
        "output_type": "execute_result"
       },
       {
        "data": {
         "text/plain": [
          "<module 'pandas' from 'C:\\\\Users\\\\DELL\\\\miniforge3\\\\envs\\\\dfnbenv\\\\Lib\\\\site-packages\\\\pandas\\\\__init__.py'>"
         ]
        },
        "execution_count": 1608800275,
        "metadata": {
         "output_tag": "pd"
        },
        "output_type": "execute_result"
       }
      ],
      "source": [
       "import matplotlib.pyplot as plt\n",
       "from sklearn import datasets, svm, metrics\n",
       "import pandas as pd"
      ]
     },
     {
      "cell_type": "code",
      "execution_count": 2106998514,
      "id": "7d963ef2-5de0-4a63-9e7c-d8c0efe560dd",
      "metadata": {},
      "outputs": [
       {
        "name": "stdout",
        "output_type": "stream",
        "text": [
         "COMPILE CALLED\n",
         "COMPILE DONE\n"
        ]
       },
       {
        "data": {
         "text/plain": [
          "array([[ 0.,  0.,  5., ...,  0.,  0.,  0.],\n",
          "       [ 0.,  0.,  0., ..., 10.,  0.,  0.],\n",
          "       [ 0.,  0.,  0., ..., 16.,  9.,  0.],\n",
          "       ...,\n",
          "       [ 0.,  0.,  1., ...,  6.,  0.,  0.],\n",
          "       [ 0.,  0.,  2., ..., 12.,  0.,  0.],\n",
          "       [ 0.,  0., 10., ..., 12.,  1.,  0.]])"
         ]
        },
        "execution_count": 2106998514,
        "metadata": {
         "output_tag": "data"
        },
        "output_type": "execute_result"
       },
       {
        "data": {
         "text/plain": [
          "array([0, 1, 2, ..., 8, 9, 8])"
         ]
        },
        "execution_count": 2106998514,
        "metadata": {
         "output_tag": "target"
        },
        "output_type": "execute_result"
       },
       {
        "data": {
         "text/plain": [
          "None"
         ]
        },
        "execution_count": 2106998514,
        "metadata": {
         "output_tag": "frame"
        },
        "output_type": "execute_result"
       },
       {
        "data": {
         "text/plain": [
          "['pixel_0_0',\n",
          " 'pixel_0_1',\n",
          " 'pixel_0_2',\n",
          " 'pixel_0_3',\n",
          " 'pixel_0_4',\n",
          " 'pixel_0_5',\n",
          " 'pixel_0_6',\n",
          " 'pixel_0_7',\n",
          " 'pixel_1_0',\n",
          " 'pixel_1_1',\n",
          " 'pixel_1_2',\n",
          " 'pixel_1_3',\n",
          " 'pixel_1_4',\n",
          " 'pixel_1_5',\n",
          " 'pixel_1_6',\n",
          " 'pixel_1_7',\n",
          " 'pixel_2_0',\n",
          " 'pixel_2_1',\n",
          " 'pixel_2_2',\n",
          " 'pixel_2_3',\n",
          " 'pixel_2_4',\n",
          " 'pixel_2_5',\n",
          " 'pixel_2_6',\n",
          " 'pixel_2_7',\n",
          " 'pixel_3_0',\n",
          " 'pixel_3_1',\n",
          " 'pixel_3_2',\n",
          " 'pixel_3_3',\n",
          " 'pixel_3_4',\n",
          " 'pixel_3_5',\n",
          " 'pixel_3_6',\n",
          " 'pixel_3_7',\n",
          " 'pixel_4_0',\n",
          " 'pixel_4_1',\n",
          " 'pixel_4_2',\n",
          " 'pixel_4_3',\n",
          " 'pixel_4_4',\n",
          " 'pixel_4_5',\n",
          " 'pixel_4_6',\n",
          " 'pixel_4_7',\n",
          " 'pixel_5_0',\n",
          " 'pixel_5_1',\n",
          " 'pixel_5_2',\n",
          " 'pixel_5_3',\n",
          " 'pixel_5_4',\n",
          " 'pixel_5_5',\n",
          " 'pixel_5_6',\n",
          " 'pixel_5_7',\n",
          " 'pixel_6_0',\n",
          " 'pixel_6_1',\n",
          " 'pixel_6_2',\n",
          " 'pixel_6_3',\n",
          " 'pixel_6_4',\n",
          " 'pixel_6_5',\n",
          " 'pixel_6_6',\n",
          " 'pixel_6_7',\n",
          " 'pixel_7_0',\n",
          " 'pixel_7_1',\n",
          " 'pixel_7_2',\n",
          " 'pixel_7_3',\n",
          " 'pixel_7_4',\n",
          " 'pixel_7_5',\n",
          " 'pixel_7_6',\n",
          " 'pixel_7_7']"
         ]
        },
        "execution_count": 2106998514,
        "metadata": {
         "output_tag": "feature_names"
        },
        "output_type": "execute_result"
       },
       {
        "data": {
         "text/plain": [
          "array([0, 1, 2, 3, 4, 5, 6, 7, 8, 9])"
         ]
        },
        "execution_count": 2106998514,
        "metadata": {
         "output_tag": "target_names"
        },
        "output_type": "execute_result"
       },
       {
        "data": {
         "text/plain": [
          "array([[[ 0.,  0.,  5., ...,  1.,  0.,  0.],\n",
          "        [ 0.,  0., 13., ..., 15.,  5.,  0.],\n",
          "        [ 0.,  3., 15., ..., 11.,  8.,  0.],\n",
          "        ...,\n",
          "        [ 0.,  4., 11., ..., 12.,  7.,  0.],\n",
          "        [ 0.,  2., 14., ..., 12.,  0.,  0.],\n",
          "        [ 0.,  0.,  6., ...,  0.,  0.,  0.]],\n",
          "\n",
          "       [[ 0.,  0.,  0., ...,  5.,  0.,  0.],\n",
          "        [ 0.,  0.,  0., ...,  9.,  0.,  0.],\n",
          "        [ 0.,  0.,  3., ...,  6.,  0.,  0.],\n",
          "        ...,\n",
          "        [ 0.,  0.,  1., ...,  6.,  0.,  0.],\n",
          "        [ 0.,  0.,  1., ...,  6.,  0.,  0.],\n",
          "        [ 0.,  0.,  0., ..., 10.,  0.,  0.]],\n",
          "\n",
          "       [[ 0.,  0.,  0., ..., 12.,  0.,  0.],\n",
          "        [ 0.,  0.,  3., ..., 14.,  0.,  0.],\n",
          "        [ 0.,  0.,  8., ..., 16.,  0.,  0.],\n",
          "        ...,\n",
          "        [ 0.,  9., 16., ...,  0.,  0.,  0.],\n",
          "        [ 0.,  3., 13., ..., 11.,  5.,  0.],\n",
          "        [ 0.,  0.,  0., ..., 16.,  9.,  0.]],\n",
          "\n",
          "       ...,\n",
          "\n",
          "       [[ 0.,  0.,  1., ...,  1.,  0.,  0.],\n",
          "        [ 0.,  0., 13., ...,  2.,  1.,  0.],\n",
          "        [ 0.,  0., 16., ..., 16.,  5.,  0.],\n",
          "        ...,\n",
          "        [ 0.,  0., 16., ..., 15.,  0.,  0.],\n",
          "        [ 0.,  0., 15., ..., 16.,  0.,  0.],\n",
          "        [ 0.,  0.,  2., ...,  6.,  0.,  0.]],\n",
          "\n",
          "       [[ 0.,  0.,  2., ...,  0.,  0.,  0.],\n",
          "        [ 0.,  0., 14., ..., 15.,  1.,  0.],\n",
          "        [ 0.,  4., 16., ..., 16.,  7.,  0.],\n",
          "        ...,\n",
          "        [ 0.,  0.,  0., ..., 16.,  2.,  0.],\n",
          "        [ 0.,  0.,  4., ..., 16.,  2.,  0.],\n",
          "        [ 0.,  0.,  5., ..., 12.,  0.,  0.]],\n",
          "\n",
          "       [[ 0.,  0., 10., ...,  1.,  0.,  0.],\n",
          "        [ 0.,  2., 16., ...,  1.,  0.,  0.],\n",
          "        [ 0.,  0., 15., ..., 15.,  0.,  0.],\n",
          "        ...,\n",
          "        [ 0.,  4., 16., ..., 16.,  6.,  0.],\n",
          "        [ 0.,  8., 16., ..., 16.,  8.,  0.],\n",
          "        [ 0.,  1.,  8., ..., 12.,  1.,  0.]]])"
         ]
        },
        "execution_count": 2106998514,
        "metadata": {
         "output_tag": "images"
        },
        "output_type": "execute_result"
       },
       {
        "data": {
         "text/plain": [
          "\".. _digits_dataset:\\n\\nOptical recognition of handwritten digits dataset\\n--------------------------------------------------\\n\\n**Data Set Characteristics:**\\n\\n:Number of Instances: 1797\\n:Number of Attributes: 64\\n:Attribute Information: 8x8 image of integer pixels in the range 0..16.\\n:Missing Attribute Values: None\\n:Creator: E. Alpaydin (alpaydin '@' boun.edu.tr)\\n:Date: July; 1998\\n\\nThis is a copy of the test set of the UCI ML hand-written digits datasets\\nhttps://archive.ics.uci.edu/ml/datasets/Optical+Recognition+of+Handwritten+Digits\\n\\nThe data set contains images of hand-written digits: 10 classes where\\neach class refers to a digit.\\n\\nPreprocessing programs made available by NIST were used to extract\\nnormalized bitmaps of handwritten digits from a preprinted form. From a\\ntotal of 43 people, 30 contributed to the training set and different 13\\nto the test set. 32x32 bitmaps are divided into nonoverlapping blocks of\\n4x4 and the number of on pixels are counted in each block. This generates\\nan input matrix of 8x8 where each element is an integer in the range\\n0..16. This reduces dimensionality and gives invariance to small\\ndistortions.\\n\\nFor info on NIST preprocessing routines, see M. D. Garris, J. L. Blue, G.\\nT. Candela, D. L. Dimmick, J. Geist, P. J. Grother, S. A. Janet, and C.\\nL. Wilson, NIST Form-Based Handprint Recognition System, NISTIR 5469,\\n1994.\\n\\n|details-start|\\n**References**\\n|details-split|\\n\\n- C. Kaynak (1995) Methods of Combining Multiple Classifiers and Their\\n  Applications to Handwritten Digit Recognition, MSc Thesis, Institute of\\n  Graduate Studies in Science and Engineering, Bogazici University.\\n- E. Alpaydin, C. Kaynak (1998) Cascading Classifiers, Kybernetika.\\n- Ken Tang and Ponnuthurai N. Suganthan and Xi Yao and A. Kai Qin.\\n  Linear dimensionalityreduction using relevance weighted LDA. School of\\n  Electrical and Electronic Engineering Nanyang Technological University.\\n  2005.\\n- Claudio Gentile. A New Approximate Maximal Margin Classification\\n  Algorithm. NIPS. 2000.\\n\\n|details-end|\\n\""
         ]
        },
        "execution_count": 2106998514,
        "metadata": {
         "output_tag": "DESCR"
        },
        "output_type": "execute_result"
       }
      ],
      "source": [
       "# The digits dataset\n",
       "# right way is to create a cell that pulls out individual variables statically?\n",
       "%split_out datasets$5fe45813.load_digits()"
      ]
     },
     {
      "cell_type": "code",
      "execution_count": 4206685394,
      "id": "fabcecd2-0cf7-478c-8d4f-419425b65c62",
      "metadata": {},
      "outputs": [
       {
        "data": {
         "text/plain": [
          "itertools.islice"
         ]
        },
        "execution_count": 4206685394,
        "metadata": {
         "output_tag": "islice"
        },
        "output_type": "execute_result"
       },
       {
        "data": {
         "image/png": "[encoded data removed]",
         "text/plain": [
          "<Figure size 640x480 with 4 Axes>"
         ]
        },
        "execution_count": 4206685394,
        "metadata": {},
        "output_type": "display_data"
       }
      ],
      "source": [
       "# The data that we are interested in is made of 8x8 images of digits, let's\n",
       "# have a look at the first 4 images, stored in the `images` attribute of the\n",
       "# dataset.  If we were working from image files, we could load them using\n",
       "# matplotlib.pyplot.imread.  Note that each image must have the same size. For these\n",
       "# images, we know which digit they represent: it is given in the 'target' of\n",
       "# the dataset.\n",
       "from itertools import islice\n",
       "pairs = zip(images$7d963ef2, target$7d963ef2)\n",
       "\n",
       "for index, (image, label) in enumerate(islice(pairs, 4)):\n",
       "    plt$5fe45813.subplot(1, 4, index + 1)\n",
       "    plt$5fe45813.axis('off')\n",
       "    plt$5fe45813.imshow(image, cmap=plt$5fe45813.cm.gray_r, interpolation='nearest')\n",
       "    plt$5fe45813.title('Training: %i' % label)"
      ]
     },
     {
      "cell_type": "code",
      "execution_count": 405610170,
      "id": "182d1eba-4eeb-4a76-b781-7d5847182de7",
      "metadata": {},
      "outputs": [
       {
        "data": {
         "text/plain": [
          "array([[ 0.,  0.,  5., ...,  0.,  0.,  0.],\n",
          "       [ 0.,  0.,  0., ..., 10.,  0.,  0.],\n",
          "       [ 0.,  0.,  0., ..., 16.,  9.,  0.],\n",
          "       ...,\n",
          "       [ 0.,  0.,  2., ..., 14.,  0.,  0.],\n",
          "       [ 0.,  1., 12., ...,  0.,  0.,  0.],\n",
          "       [ 0.,  0.,  0., ...,  3.,  0.,  0.]])"
         ]
        },
        "execution_count": 405610170,
        "metadata": {
         "output_tag": "X_train"
        },
        "output_type": "execute_result"
       },
       {
        "data": {
         "text/plain": [
          "array([[ 0.,  0.,  1., ..., 12.,  1.,  0.],\n",
          "       [ 0.,  0.,  6., ...,  6.,  0.,  0.],\n",
          "       [ 0.,  0.,  0., ...,  2.,  0.,  0.],\n",
          "       ...,\n",
          "       [ 0.,  0.,  1., ...,  6.,  0.,  0.],\n",
          "       [ 0.,  0.,  2., ..., 12.,  0.,  0.],\n",
          "       [ 0.,  0., 10., ..., 12.,  1.,  0.]])"
         ]
        },
        "execution_count": 405610170,
        "metadata": {
         "output_tag": "X_test"
        },
        "output_type": "execute_result"
       },
       {
        "data": {
         "text/plain": [
          "array([0, 1, 2, 3, 4, 5, 6, 7, 8, 9, 0, 1, 2, 3, 4, 5, 6, 7, 8, 9, 0, 1,\n",
          "       2, 3, 4, 5, 6, 7, 8, 9, 0, 9, 5, 5, 6, 5, 0, 9, 8, 9, 8, 4, 1, 7,\n",
          "       7, 3, 5, 1, 0, 0, 2, 2, 7, 8, 2, 0, 1, 2, 6, 3, 3, 7, 3, 3, 4, 6,\n",
          "       6, 6, 4, 9, 1, 5, 0, 9, 5, 2, 8, 2, 0, 0, 1, 7, 6, 3, 2, 1, 7, 4,\n",
          "       6, 3, 1, 3, 9, 1, 7, 6, 8, 4, 3, 1, 4, 0, 5, 3, 6, 9, 6, 1, 7, 5,\n",
          "       4, 4, 7, 2, 8, 2, 2, 5, 7, 9, 5, 4, 8, 8, 4, 9, 0, 8, 9, 8, 0, 1,\n",
          "       2, 3, 4, 5, 6, 7, 8, 9, 0, 1, 2, 3, 4, 5, 6, 7, 8, 9, 0, 1, 2, 3,\n",
          "       4, 5, 6, 7, 8, 9, 0, 9, 5, 5, 6, 5, 0, 9, 8, 9, 8, 4, 1, 7, 7, 3,\n",
          "       5, 1, 0, 0, 2, 2, 7, 8, 2, 0, 1, 2, 6, 3, 3, 7, 3, 3, 4, 6, 6, 6,\n",
          "       4, 9, 1, 5, 0, 9, 5, 2, 8, 2, 0, 0, 1, 7, 6, 3, 2, 1, 7, 3, 1, 3,\n",
          "       9, 1, 7, 6, 8, 4, 3, 1, 4, 0, 5, 3, 6, 9, 6, 1, 7, 5, 4, 4, 7, 2,\n",
          "       8, 2, 2, 5, 5, 4, 8, 8, 4, 9, 0, 8, 9, 8, 0, 1, 2, 3, 4, 5, 6, 7,\n",
          "       8, 9, 0, 1, 2, 3, 4, 5, 6, 7, 8, 9, 0, 1, 2, 3, 4, 5, 6, 7, 8, 9,\n",
          "       0, 9, 5, 5, 6, 5, 0, 9, 8, 9, 8, 4, 1, 7, 7, 3, 5, 1, 0, 0, 2, 2,\n",
          "       7, 8, 2, 0, 1, 2, 6, 3, 3, 7, 3, 3, 4, 6, 6, 6, 4, 9, 1, 5, 0, 9,\n",
          "       5, 2, 8, 2, 0, 0, 1, 7, 6, 3, 2, 1, 7, 4, 6, 3, 1, 3, 9, 1, 7, 6,\n",
          "       8, 4, 3, 1, 4, 0, 5, 3, 6, 9, 6, 1, 7, 5, 4, 4, 7, 2, 8, 2, 2, 5,\n",
          "       7, 9, 5, 4, 8, 8, 4, 9, 0, 8, 9, 3, 0, 1, 2, 3, 4, 5, 6, 7, 8, 9,\n",
          "       0, 1, 2, 3, 4, 5, 6, 7, 8, 9, 0, 1, 2, 3, 4, 5, 6, 7, 8, 9, 0, 9,\n",
          "       5, 5, 6, 5, 0, 9, 8, 9, 8, 4, 1, 7, 7, 3, 5, 1, 0, 0, 2, 2, 7, 8,\n",
          "       2, 0, 1, 2, 6, 3, 3, 7, 3, 3, 4, 6, 6, 6, 4, 9, 1, 5, 0, 9, 5, 2,\n",
          "       8, 2, 0, 0, 1, 7, 6, 3, 2, 1, 7, 4, 6, 3, 1, 3, 9, 1, 7, 6, 8, 4,\n",
          "       3, 1, 4, 0, 5, 3, 6, 9, 6, 1, 7, 5, 4, 4, 7, 2, 8, 2, 2, 5, 7, 9,\n",
          "       5, 4, 8, 8, 4, 9, 0, 8, 9, 8, 0, 1, 2, 3, 4, 5, 6, 7, 8, 9, 0, 1,\n",
          "       2, 3, 4, 5, 6, 7, 8, 9, 0, 1, 2, 3, 4, 5, 6, 7, 8, 9, 0, 9, 5, 5,\n",
          "       6, 5, 0, 9, 8, 9, 8, 4, 1, 7, 7, 3, 5, 1, 0, 0, 2, 2, 7, 8, 2, 0,\n",
          "       1, 2, 6, 3, 3, 7, 3, 3, 4, 6, 6, 6, 4, 9, 1, 5, 0, 9, 5, 2, 8, 2,\n",
          "       0, 0, 1, 7, 6, 3, 2, 1, 7, 4, 6, 3, 1, 3, 9, 1, 7, 6, 8, 4, 3, 1,\n",
          "       4, 0, 5, 3, 6, 9, 6, 1, 7, 5, 4, 4, 7, 2, 8, 2, 2, 5, 7, 9, 5, 4,\n",
          "       8, 8, 4, 9, 0, 8, 9, 8, 0, 1, 2, 3, 4, 5, 6, 7, 8, 9, 0, 1, 2, 3,\n",
          "       4, 5, 6, 7, 8, 9, 0, 1, 2, 3, 4, 5, 6, 7, 8, 9, 0, 9, 5, 5, 6, 5,\n",
          "       0, 9, 8, 9, 8, 4, 1, 7, 7, 3, 5, 1, 0, 0, 2, 2, 7, 8, 2, 0, 1, 2,\n",
          "       6, 3, 3, 7, 3, 3, 4, 6, 6, 6, 4, 9, 1, 5, 0, 9, 5, 2, 8, 2, 0, 0,\n",
          "       1, 7, 6, 3, 2, 1, 7, 4, 6, 3, 1, 3, 9, 1, 7, 6, 8, 4, 3, 1, 4, 0,\n",
          "       5, 3, 6, 9, 6, 1, 7, 5, 4, 4, 7, 2, 8, 2, 2, 5, 7, 9, 5, 4, 8, 8,\n",
          "       4, 9, 0, 8, 9, 8, 0, 1, 2, 3, 4, 5, 6, 7, 8, 9, 0, 1, 2, 3, 4, 5,\n",
          "       6, 7, 8, 9, 0, 1, 2, 3, 4, 5, 6, 7, 8, 9, 0, 9, 5, 5, 6, 5, 0, 9,\n",
          "       8, 9, 8, 4, 1, 7, 7, 3, 5, 1, 0, 0, 2, 2, 7, 8, 2, 0, 1, 2, 6, 3,\n",
          "       3, 7, 3, 3, 4, 6, 6, 6, 4, 9, 1, 5, 0, 9, 5, 2, 8, 2, 0, 0, 1, 7,\n",
          "       6, 3, 2, 1, 7, 4, 6, 3, 1, 3, 9, 1, 7, 6, 8, 4, 3, 1, 4, 0, 5, 3,\n",
          "       6, 9, 6, 1, 7, 5, 4, 4, 7, 2, 8, 2, 2, 5, 7, 9, 5, 4])"
         ]
        },
        "execution_count": 405610170,
        "metadata": {
         "output_tag": "y_train"
        },
        "output_type": "execute_result"
       },
       {
        "data": {
         "text/plain": [
          "array([8, 8, 4, 9, 0, 8, 9, 8, 1, 2, 3, 4, 5, 6, 7, 8, 9, 0, 1, 2, 3, 4,\n",
          "       5, 6, 7, 8, 9, 0, 1, 2, 3, 4, 5, 6, 7, 8, 9, 0, 9, 5, 5, 6, 5, 0,\n",
          "       9, 8, 9, 8, 4, 1, 7, 7, 3, 5, 1, 2, 7, 8, 2, 0, 1, 2, 6, 3, 3, 7,\n",
          "       3, 3, 4, 6, 6, 6, 4, 9, 1, 5, 0, 9, 5, 2, 8, 2, 0, 0, 1, 7, 6, 3,\n",
          "       2, 1, 4, 6, 3, 1, 3, 9, 1, 7, 6, 8, 4, 3, 1, 4, 0, 5, 3, 6, 9, 6,\n",
          "       1, 7, 5, 4, 4, 7, 2, 8, 2, 2, 5, 7, 9, 5, 4, 4, 9, 0, 8, 9, 8, 0,\n",
          "       1, 2, 3, 4, 5, 6, 7, 8, 9, 0, 1, 2, 3, 4, 5, 6, 7, 8, 9, 0, 1, 2,\n",
          "       3, 4, 5, 6, 7, 8, 9, 0, 9, 5, 5, 6, 5, 0, 9, 8, 9, 8, 4, 1, 7, 7,\n",
          "       3, 5, 1, 0, 0, 7, 8, 2, 0, 1, 2, 6, 3, 3, 7, 3, 3, 4, 6, 6, 6, 4,\n",
          "       9, 1, 5, 0, 9, 5, 2, 8, 2, 0, 0, 1, 7, 6, 3, 2, 1, 7, 4, 6, 3, 1,\n",
          "       3, 9, 1, 7, 6, 8, 4, 3, 1, 4, 0, 5, 3, 6, 9, 6, 1, 7, 5, 4, 4, 7,\n",
          "       2, 8, 2, 2, 5, 7, 9, 5, 4, 8, 8, 4, 9, 0, 8, 9, 8, 0, 1, 2, 3, 4,\n",
          "       5, 6, 7, 8, 9, 0, 1, 2, 3, 4, 5, 6, 7, 8, 9, 0, 1, 2, 3, 4, 5, 6,\n",
          "       7, 8, 9, 0, 9, 5, 5, 6, 5, 0, 9, 8, 9, 8, 4, 1, 7, 7, 3, 5, 1, 0,\n",
          "       0, 2, 2, 7, 8, 2, 0, 1, 2, 6, 3, 3, 7, 3, 3, 4, 6, 6, 6, 4, 9, 1,\n",
          "       5, 0, 9, 5, 2, 8, 2, 0, 0, 1, 7, 6, 3, 2, 1, 7, 4, 6, 3, 1, 3, 9,\n",
          "       1, 7, 6, 8, 4, 3, 1, 4, 0, 5, 3, 6, 9, 6, 1, 7, 5, 4, 4, 7, 2, 8,\n",
          "       2, 2, 5, 7, 9, 5, 4, 8, 8, 4, 9, 0, 8, 9, 8, 0, 1, 2, 3, 4, 5, 6,\n",
          "       7, 8, 9, 0, 1, 2, 3, 4, 5, 6, 7, 8, 9, 0, 1, 2, 3, 4, 5, 6, 7, 8,\n",
          "       9, 0, 9, 5, 5, 6, 5, 0, 9, 8, 9, 8, 4, 1, 7, 7, 3, 5, 1, 0, 0, 2,\n",
          "       2, 7, 8, 2, 0, 1, 2, 6, 3, 3, 7, 3, 3, 4, 6, 6, 6, 4, 9, 1, 5, 0,\n",
          "       9, 5, 2, 8, 2, 0, 0, 1, 7, 6, 3, 2, 1, 7, 4, 6, 3, 1, 3, 9, 1, 7,\n",
          "       6, 8, 4, 3, 1, 4, 0, 5, 3, 6, 9, 6, 1, 7, 5, 4, 4, 7, 2, 8, 2, 2,\n",
          "       5, 7, 9, 5, 4, 8, 8, 4, 9, 0, 8, 0, 1, 2, 3, 4, 5, 6, 7, 8, 9, 0,\n",
          "       1, 2, 3, 4, 5, 6, 7, 8, 9, 0, 1, 2, 3, 4, 5, 6, 7, 8, 9, 0, 9, 5,\n",
          "       5, 6, 5, 0, 9, 8, 9, 8, 4, 1, 7, 7, 3, 5, 1, 0, 0, 2, 2, 7, 8, 2,\n",
          "       0, 1, 2, 6, 3, 3, 7, 3, 3, 4, 6, 6, 6, 4, 9, 1, 5, 0, 9, 5, 2, 8,\n",
          "       2, 0, 0, 1, 7, 6, 3, 2, 1, 7, 4, 6, 3, 1, 3, 9, 1, 7, 6, 8, 4, 3,\n",
          "       1, 4, 0, 5, 3, 6, 9, 6, 1, 7, 5, 4, 4, 7, 2, 8, 2, 2, 5, 7, 9, 5,\n",
          "       4, 8, 8, 4, 9, 0, 8, 9, 8, 0, 1, 2, 3, 4, 5, 6, 7, 8, 9, 0, 1, 2,\n",
          "       3, 4, 5, 6, 9, 0, 1, 2, 3, 4, 5, 6, 7, 8, 9, 0, 9, 5, 5, 6, 5, 0,\n",
          "       9, 8, 9, 8, 4, 1, 7, 7, 3, 5, 1, 0, 0, 2, 2, 7, 8, 2, 0, 1, 2, 6,\n",
          "       3, 3, 7, 3, 3, 4, 6, 6, 6, 4, 9, 1, 5, 0, 9, 5, 2, 8, 0, 1, 7, 6,\n",
          "       3, 2, 1, 7, 4, 6, 3, 1, 3, 9, 1, 7, 6, 8, 4, 3, 1, 4, 0, 5, 3, 6,\n",
          "       9, 6, 1, 7, 5, 4, 4, 7, 2, 2, 5, 7, 9, 5, 4, 4, 9, 0, 8, 9, 8, 0,\n",
          "       1, 2, 3, 4, 5, 6, 7, 8, 9, 0, 1, 2, 3, 4, 5, 6, 7, 8, 9, 0, 1, 2,\n",
          "       3, 4, 5, 6, 7, 8, 9, 0, 9, 5, 5, 6, 5, 0, 9, 8, 9, 8, 4, 1, 7, 7,\n",
          "       3, 5, 1, 0, 0, 2, 2, 7, 8, 2, 0, 1, 2, 6, 3, 3, 7, 3, 3, 4, 6, 6,\n",
          "       6, 4, 9, 1, 5, 0, 9, 5, 2, 8, 2, 0, 0, 1, 7, 6, 3, 2, 1, 7, 4, 6,\n",
          "       3, 1, 3, 9, 1, 7, 6, 8, 4, 3, 1, 4, 0, 5, 3, 6, 9, 6, 1, 7, 5, 4,\n",
          "       4, 7, 2, 8, 2, 2, 5, 7, 9, 5, 4, 8, 8, 4, 9, 0, 8, 9, 8])"
         ]
        },
        "execution_count": 405610170,
        "metadata": {
         "output_tag": "y_test"
        },
        "output_type": "execute_result"
       }
      ],
      "source": [
       "# To apply a classifier on this data, we need to flatten the image, to\n",
       "# turn the data in a (samples, feature) matrix\n",
       "n_samples = len(images$7d963ef2)\n",
       "X = images$7d963ef2.reshape((n_samples, -1))\n",
       "y = target$7d963ef2\n",
       "\n",
       "# manual test-train split (could also use model_selection.train_test_split)\n",
       "X_train = X[:n_samples//2]\n",
       "X_test = X[n_samples//2:]\n",
       "y_train = y[:n_samples//2]\n",
       "y_test = y[n_samples//2:]\n",
       "\n",
       "X_train, X_test, y_train, y_test"
      ]
     },
     {
      "cell_type": "code",
      "execution_count": 4050968224,
      "id": "f174dea0-9d50-46d0-879b-586046334da7",
      "metadata": {},
      "outputs": [
       {
        "data": {
         "text/html": [
          "<style>#sk-container-id-1 {\n",
          "  /* Definition of color scheme common for light and dark mode */\n",
          "  --sklearn-color-text: black;\n",
          "  --sklearn-color-line: gray;\n",
          "  /* Definition of color scheme for unfitted estimators */\n",
          "  --sklearn-color-unfitted-level-0: #fff5e6;\n",
          "  --sklearn-color-unfitted-level-1: #f6e4d2;\n",
          "  --sklearn-color-unfitted-level-2: #ffe0b3;\n",
          "  --sklearn-color-unfitted-level-3: chocolate;\n",
          "  /* Definition of color scheme for fitted estimators */\n",
          "  --sklearn-color-fitted-level-0: #f0f8ff;\n",
          "  --sklearn-color-fitted-level-1: #d4ebff;\n",
          "  --sklearn-color-fitted-level-2: #b3dbfd;\n",
          "  --sklearn-color-fitted-level-3: cornflowerblue;\n",
          "\n",
          "  /* Specific color for light theme */\n",
          "  --sklearn-color-text-on-default-background: var(--sg-text-color, var(--theme-code-foreground, var(--jp-content-font-color1, black)));\n",
          "  --sklearn-color-background: var(--sg-background-color, var(--theme-background, var(--jp-layout-color0, white)));\n",
          "  --sklearn-color-border-box: var(--sg-text-color, var(--theme-code-foreground, var(--jp-content-font-color1, black)));\n",
          "  --sklearn-color-icon: #696969;\n",
          "\n",
          "  @media (prefers-color-scheme: dark) {\n",
          "    /* Redefinition of color scheme for dark theme */\n",
          "    --sklearn-color-text-on-default-background: var(--sg-text-color, var(--theme-code-foreground, var(--jp-content-font-color1, white)));\n",
          "    --sklearn-color-background: var(--sg-background-color, var(--theme-background, var(--jp-layout-color0, #111)));\n",
          "    --sklearn-color-border-box: var(--sg-text-color, var(--theme-code-foreground, var(--jp-content-font-color1, white)));\n",
          "    --sklearn-color-icon: #878787;\n",
          "  }\n",
          "}\n",
          "\n",
          "#sk-container-id-1 {\n",
          "  color: var(--sklearn-color-text);\n",
          "}\n",
          "\n",
          "#sk-container-id-1 pre {\n",
          "  padding: 0;\n",
          "}\n",
          "\n",
          "#sk-container-id-1 input.sk-hidden--visually {\n",
          "  border: 0;\n",
          "  clip: rect(1px 1px 1px 1px);\n",
          "  clip: rect(1px, 1px, 1px, 1px);\n",
          "  height: 1px;\n",
          "  margin: -1px;\n",
          "  overflow: hidden;\n",
          "  padding: 0;\n",
          "  position: absolute;\n",
          "  width: 1px;\n",
          "}\n",
          "\n",
          "#sk-container-id-1 div.sk-dashed-wrapped {\n",
          "  border: 1px dashed var(--sklearn-color-line);\n",
          "  margin: 0 0.4em 0.5em 0.4em;\n",
          "  box-sizing: border-box;\n",
          "  padding-bottom: 0.4em;\n",
          "  background-color: var(--sklearn-color-background);\n",
          "}\n",
          "\n",
          "#sk-container-id-1 div.sk-container {\n",
          "  /* jupyter's `normalize.less` sets `[hidden] { display: none; }`\n",
          "     but bootstrap.min.css set `[hidden] { display: none !important; }`\n",
          "     so we also need the `!important` here to be able to override the\n",
          "     default hidden behavior on the sphinx rendered scikit-learn.org.\n",
          "     See: https://github.com/scikit-learn/scikit-learn/issues/21755 */\n",
          "  display: inline-block !important;\n",
          "  position: relative;\n",
          "}\n",
          "\n",
          "#sk-container-id-1 div.sk-text-repr-fallback {\n",
          "  display: none;\n",
          "}\n",
          "\n",
          "div.sk-parallel-item,\n",
          "div.sk-serial,\n",
          "div.sk-item {\n",
          "  /* draw centered vertical line to link estimators */\n",
          "  background-image: linear-gradient(var(--sklearn-color-text-on-default-background), var(--sklearn-color-text-on-default-background));\n",
          "  background-size: 2px 100%;\n",
          "  background-repeat: no-repeat;\n",
          "  background-position: center center;\n",
          "}\n",
          "\n",
          "/* Parallel-specific style estimator block */\n",
          "\n",
          "#sk-container-id-1 div.sk-parallel-item::after {\n",
          "  content: \"\";\n",
          "  width: 100%;\n",
          "  border-bottom: 2px solid var(--sklearn-color-text-on-default-background);\n",
          "  flex-grow: 1;\n",
          "}\n",
          "\n",
          "#sk-container-id-1 div.sk-parallel {\n",
          "  display: flex;\n",
          "  align-items: stretch;\n",
          "  justify-content: center;\n",
          "  background-color: var(--sklearn-color-background);\n",
          "  position: relative;\n",
          "}\n",
          "\n",
          "#sk-container-id-1 div.sk-parallel-item {\n",
          "  display: flex;\n",
          "  flex-direction: column;\n",
          "}\n",
          "\n",
          "#sk-container-id-1 div.sk-parallel-item:first-child::after {\n",
          "  align-self: flex-end;\n",
          "  width: 50%;\n",
          "}\n",
          "\n",
          "#sk-container-id-1 div.sk-parallel-item:last-child::after {\n",
          "  align-self: flex-start;\n",
          "  width: 50%;\n",
          "}\n",
          "\n",
          "#sk-container-id-1 div.sk-parallel-item:only-child::after {\n",
          "  width: 0;\n",
          "}\n",
          "\n",
          "/* Serial-specific style estimator block */\n",
          "\n",
          "#sk-container-id-1 div.sk-serial {\n",
          "  display: flex;\n",
          "  flex-direction: column;\n",
          "  align-items: center;\n",
          "  background-color: var(--sklearn-color-background);\n",
          "  padding-right: 1em;\n",
          "  padding-left: 1em;\n",
          "}\n",
          "\n",
          "\n",
          "/* Toggleable style: style used for estimator/Pipeline/ColumnTransformer box that is\n",
          "clickable and can be expanded/collapsed.\n",
          "- Pipeline and ColumnTransformer use this feature and define the default style\n",
          "- Estimators will overwrite some part of the style using the `sk-estimator` class\n",
          "*/\n",
          "\n",
          "/* Pipeline and ColumnTransformer style (default) */\n",
          "\n",
          "#sk-container-id-1 div.sk-toggleable {\n",
          "  /* Default theme specific background. It is overwritten whether we have a\n",
          "  specific estimator or a Pipeline/ColumnTransformer */\n",
          "  background-color: var(--sklearn-color-background);\n",
          "}\n",
          "\n",
          "/* Toggleable label */\n",
          "#sk-container-id-1 label.sk-toggleable__label {\n",
          "  cursor: pointer;\n",
          "  display: block;\n",
          "  width: 100%;\n",
          "  margin-bottom: 0;\n",
          "  padding: 0.5em;\n",
          "  box-sizing: border-box;\n",
          "  text-align: center;\n",
          "}\n",
          "\n",
          "#sk-container-id-1 label.sk-toggleable__label-arrow:before {\n",
          "  /* Arrow on the left of the label */\n",
          "  content: \"▸\";\n",
          "  float: left;\n",
          "  margin-right: 0.25em;\n",
          "  color: var(--sklearn-color-icon);\n",
          "}\n",
          "\n",
          "#sk-container-id-1 label.sk-toggleable__label-arrow:hover:before {\n",
          "  color: var(--sklearn-color-text);\n",
          "}\n",
          "\n",
          "/* Toggleable content - dropdown */\n",
          "\n",
          "#sk-container-id-1 div.sk-toggleable__content {\n",
          "  max-height: 0;\n",
          "  max-width: 0;\n",
          "  overflow: hidden;\n",
          "  text-align: left;\n",
          "  /* unfitted */\n",
          "  background-color: var(--sklearn-color-unfitted-level-0);\n",
          "}\n",
          "\n",
          "#sk-container-id-1 div.sk-toggleable__content.fitted {\n",
          "  /* fitted */\n",
          "  background-color: var(--sklearn-color-fitted-level-0);\n",
          "}\n",
          "\n",
          "#sk-container-id-1 div.sk-toggleable__content pre {\n",
          "  margin: 0.2em;\n",
          "  border-radius: 0.25em;\n",
          "  color: var(--sklearn-color-text);\n",
          "  /* unfitted */\n",
          "  background-color: var(--sklearn-color-unfitted-level-0);\n",
          "}\n",
          "\n",
          "#sk-container-id-1 div.sk-toggleable__content.fitted pre {\n",
          "  /* unfitted */\n",
          "  background-color: var(--sklearn-color-fitted-level-0);\n",
          "}\n",
          "\n",
          "#sk-container-id-1 input.sk-toggleable__control:checked~div.sk-toggleable__content {\n",
          "  /* Expand drop-down */\n",
          "  max-height: 200px;\n",
          "  max-width: 100%;\n",
          "  overflow: auto;\n",
          "}\n",
          "\n",
          "#sk-container-id-1 input.sk-toggleable__control:checked~label.sk-toggleable__label-arrow:before {\n",
          "  content: \"▾\";\n",
          "}\n",
          "\n",
          "/* Pipeline/ColumnTransformer-specific style */\n",
          "\n",
          "#sk-container-id-1 div.sk-label input.sk-toggleable__control:checked~label.sk-toggleable__label {\n",
          "  color: var(--sklearn-color-text);\n",
          "  background-color: var(--sklearn-color-unfitted-level-2);\n",
          "}\n",
          "\n",
          "#sk-container-id-1 div.sk-label.fitted input.sk-toggleable__control:checked~label.sk-toggleable__label {\n",
          "  background-color: var(--sklearn-color-fitted-level-2);\n",
          "}\n",
          "\n",
          "/* Estimator-specific style */\n",
          "\n",
          "/* Colorize estimator box */\n",
          "#sk-container-id-1 div.sk-estimator input.sk-toggleable__control:checked~label.sk-toggleable__label {\n",
          "  /* unfitted */\n",
          "  background-color: var(--sklearn-color-unfitted-level-2);\n",
          "}\n",
          "\n",
          "#sk-container-id-1 div.sk-estimator.fitted input.sk-toggleable__control:checked~label.sk-toggleable__label {\n",
          "  /* fitted */\n",
          "  background-color: var(--sklearn-color-fitted-level-2);\n",
          "}\n",
          "\n",
          "#sk-container-id-1 div.sk-label label.sk-toggleable__label,\n",
          "#sk-container-id-1 div.sk-label label {\n",
          "  /* The background is the default theme color */\n",
          "  color: var(--sklearn-color-text-on-default-background);\n",
          "}\n",
          "\n",
          "/* On hover, darken the color of the background */\n",
          "#sk-container-id-1 div.sk-label:hover label.sk-toggleable__label {\n",
          "  color: var(--sklearn-color-text);\n",
          "  background-color: var(--sklearn-color-unfitted-level-2);\n",
          "}\n",
          "\n",
          "/* Label box, darken color on hover, fitted */\n",
          "#sk-container-id-1 div.sk-label.fitted:hover label.sk-toggleable__label.fitted {\n",
          "  color: var(--sklearn-color-text);\n",
          "  background-color: var(--sklearn-color-fitted-level-2);\n",
          "}\n",
          "\n",
          "/* Estimator label */\n",
          "\n",
          "#sk-container-id-1 div.sk-label label {\n",
          "  font-family: monospace;\n",
          "  font-weight: bold;\n",
          "  display: inline-block;\n",
          "  line-height: 1.2em;\n",
          "}\n",
          "\n",
          "#sk-container-id-1 div.sk-label-container {\n",
          "  text-align: center;\n",
          "}\n",
          "\n",
          "/* Estimator-specific */\n",
          "#sk-container-id-1 div.sk-estimator {\n",
          "  font-family: monospace;\n",
          "  border: 1px dotted var(--sklearn-color-border-box);\n",
          "  border-radius: 0.25em;\n",
          "  box-sizing: border-box;\n",
          "  margin-bottom: 0.5em;\n",
          "  /* unfitted */\n",
          "  background-color: var(--sklearn-color-unfitted-level-0);\n",
          "}\n",
          "\n",
          "#sk-container-id-1 div.sk-estimator.fitted {\n",
          "  /* fitted */\n",
          "  background-color: var(--sklearn-color-fitted-level-0);\n",
          "}\n",
          "\n",
          "/* on hover */\n",
          "#sk-container-id-1 div.sk-estimator:hover {\n",
          "  /* unfitted */\n",
          "  background-color: var(--sklearn-color-unfitted-level-2);\n",
          "}\n",
          "\n",
          "#sk-container-id-1 div.sk-estimator.fitted:hover {\n",
          "  /* fitted */\n",
          "  background-color: var(--sklearn-color-fitted-level-2);\n",
          "}\n",
          "\n",
          "/* Specification for estimator info (e.g. \"i\" and \"?\") */\n",
          "\n",
          "/* Common style for \"i\" and \"?\" */\n",
          "\n",
          ".sk-estimator-doc-link,\n",
          "a:link.sk-estimator-doc-link,\n",
          "a:visited.sk-estimator-doc-link {\n",
          "  float: right;\n",
          "  font-size: smaller;\n",
          "  line-height: 1em;\n",
          "  font-family: monospace;\n",
          "  background-color: var(--sklearn-color-background);\n",
          "  border-radius: 1em;\n",
          "  height: 1em;\n",
          "  width: 1em;\n",
          "  text-decoration: none !important;\n",
          "  margin-left: 1ex;\n",
          "  /* unfitted */\n",
          "  border: var(--sklearn-color-unfitted-level-1) 1pt solid;\n",
          "  color: var(--sklearn-color-unfitted-level-1);\n",
          "}\n",
          "\n",
          ".sk-estimator-doc-link.fitted,\n",
          "a:link.sk-estimator-doc-link.fitted,\n",
          "a:visited.sk-estimator-doc-link.fitted {\n",
          "  /* fitted */\n",
          "  border: var(--sklearn-color-fitted-level-1) 1pt solid;\n",
          "  color: var(--sklearn-color-fitted-level-1);\n",
          "}\n",
          "\n",
          "/* On hover */\n",
          "div.sk-estimator:hover .sk-estimator-doc-link:hover,\n",
          ".sk-estimator-doc-link:hover,\n",
          "div.sk-label-container:hover .sk-estimator-doc-link:hover,\n",
          ".sk-estimator-doc-link:hover {\n",
          "  /* unfitted */\n",
          "  background-color: var(--sklearn-color-unfitted-level-3);\n",
          "  color: var(--sklearn-color-background);\n",
          "  text-decoration: none;\n",
          "}\n",
          "\n",
          "div.sk-estimator.fitted:hover .sk-estimator-doc-link.fitted:hover,\n",
          ".sk-estimator-doc-link.fitted:hover,\n",
          "div.sk-label-container:hover .sk-estimator-doc-link.fitted:hover,\n",
          ".sk-estimator-doc-link.fitted:hover {\n",
          "  /* fitted */\n",
          "  background-color: var(--sklearn-color-fitted-level-3);\n",
          "  color: var(--sklearn-color-background);\n",
          "  text-decoration: none;\n",
          "}\n",
          "\n",
          "/* Span, style for the box shown on hovering the info icon */\n",
          ".sk-estimator-doc-link span {\n",
          "  display: none;\n",
          "  z-index: 9999;\n",
          "  position: relative;\n",
          "  font-weight: normal;\n",
          "  right: .2ex;\n",
          "  padding: .5ex;\n",
          "  margin: .5ex;\n",
          "  width: min-content;\n",
          "  min-width: 20ex;\n",
          "  max-width: 50ex;\n",
          "  color: var(--sklearn-color-text);\n",
          "  box-shadow: 2pt 2pt 4pt #999;\n",
          "  /* unfitted */\n",
          "  background: var(--sklearn-color-unfitted-level-0);\n",
          "  border: .5pt solid var(--sklearn-color-unfitted-level-3);\n",
          "}\n",
          "\n",
          ".sk-estimator-doc-link.fitted span {\n",
          "  /* fitted */\n",
          "  background: var(--sklearn-color-fitted-level-0);\n",
          "  border: var(--sklearn-color-fitted-level-3);\n",
          "}\n",
          "\n",
          ".sk-estimator-doc-link:hover span {\n",
          "  display: block;\n",
          "}\n",
          "\n",
          "/* \"?\"-specific style due to the `<a>` HTML tag */\n",
          "\n",
          "#sk-container-id-1 a.estimator_doc_link {\n",
          "  float: right;\n",
          "  font-size: 1rem;\n",
          "  line-height: 1em;\n",
          "  font-family: monospace;\n",
          "  background-color: var(--sklearn-color-background);\n",
          "  border-radius: 1rem;\n",
          "  height: 1rem;\n",
          "  width: 1rem;\n",
          "  text-decoration: none;\n",
          "  /* unfitted */\n",
          "  color: var(--sklearn-color-unfitted-level-1);\n",
          "  border: var(--sklearn-color-unfitted-level-1) 1pt solid;\n",
          "}\n",
          "\n",
          "#sk-container-id-1 a.estimator_doc_link.fitted {\n",
          "  /* fitted */\n",
          "  border: var(--sklearn-color-fitted-level-1) 1pt solid;\n",
          "  color: var(--sklearn-color-fitted-level-1);\n",
          "}\n",
          "\n",
          "/* On hover */\n",
          "#sk-container-id-1 a.estimator_doc_link:hover {\n",
          "  /* unfitted */\n",
          "  background-color: var(--sklearn-color-unfitted-level-3);\n",
          "  color: var(--sklearn-color-background);\n",
          "  text-decoration: none;\n",
          "}\n",
          "\n",
          "#sk-container-id-1 a.estimator_doc_link.fitted:hover {\n",
          "  /* fitted */\n",
          "  background-color: var(--sklearn-color-fitted-level-3);\n",
          "}\n",
          "</style><div id=\"sk-container-id-1\" class=\"sk-top-container\"><div class=\"sk-text-repr-fallback\"><pre>SVC(gamma=0.001)</pre><b>In a Jupyter environment, please rerun this cell to show the HTML representation or trust the notebook. <br />On GitHub, the HTML representation is unable to render, please try loading this page with nbviewer.org.</b></div><div class=\"sk-container\" hidden><div class=\"sk-item\"><div class=\"sk-estimator fitted sk-toggleable\"><input class=\"sk-toggleable__control sk-hidden--visually\" id=\"sk-estimator-id-1\" type=\"checkbox\" checked><label for=\"sk-estimator-id-1\" class=\"sk-toggleable__label fitted sk-toggleable__label-arrow fitted\">&nbsp;&nbsp;SVC<a class=\"sk-estimator-doc-link fitted\" rel=\"noreferrer\" target=\"_blank\" href=\"https://scikit-learn.org/1.5/modules/generated/sklearn.svm.SVC.html\">?<span>Documentation for SVC</span></a><span class=\"sk-estimator-doc-link fitted\">i<span>Fitted</span></span></label><div class=\"sk-toggleable__content fitted\"><pre>SVC(gamma=0.001)</pre></div> </div></div></div></div>"
         ],
         "text/plain": [
          "SVC(gamma=0.001)"
         ]
        },
        "execution_count": 4050968224,
        "metadata": {
         "output_tag": "classifier"
        },
        "output_type": "execute_result"
       }
      ],
      "source": [
       "# Create a classifier: a support vector classifier\n",
       "classifier = svm$5fe45813.SVC(gamma=0.001)\n",
       "\n",
       "# We learn the digits on the first half of the digits\n",
       "classifier.fit(X_train$182d1eba, y_train$182d1eba)\n",
       "\n",
       "classifier"
      ]
     },
     {
      "cell_type": "code",
      "execution_count": 795050190,
      "id": "2f6380ce-f3f5-4489-91e9-e6c88a377444",
      "metadata": {},
      "outputs": [
       {
        "data": {
         "text/plain": [
          "array([8, 8, 4, 9, 0, 8, 9, 8, 1, 2, 3, 4, 5, 6, 7, 8, 9, 0, 1, 2, 3, 4,\n",
          "       5, 6, 7, 8, 9, 0, 1, 2, 3, 4, 5, 6, 7, 8, 9, 0, 9, 5, 5, 6, 5, 0,\n",
          "       9, 8, 9, 8, 4, 1, 7, 7, 3, 5, 1, 2, 7, 8, 2, 0, 1, 2, 6, 3, 3, 7,\n",
          "       3, 3, 4, 6, 6, 6, 4, 9, 1, 5, 0, 9, 5, 2, 8, 2, 0, 0, 1, 7, 6, 3,\n",
          "       2, 1, 4, 6, 3, 1, 3, 9, 1, 7, 6, 8, 4, 3, 1, 4, 0, 5, 3, 6, 9, 6,\n",
          "       1, 7, 5, 4, 4, 7, 2, 8, 2, 2, 5, 7, 9, 5, 4, 4, 9, 0, 8, 9, 8, 0,\n",
          "       1, 2, 3, 4, 5, 6, 7, 8, 9, 0, 1, 2, 3, 4, 5, 6, 7, 8, 9, 0, 1, 2,\n",
          "       3, 4, 5, 6, 7, 8, 9, 0, 9, 5, 5, 6, 5, 0, 9, 8, 9, 8, 4, 1, 7, 7,\n",
          "       3, 5, 1, 0, 0, 7, 8, 2, 0, 1, 2, 6, 3, 3, 7, 3, 3, 4, 6, 6, 6, 4,\n",
          "       9, 1, 5, 0, 9, 5, 2, 8, 2, 0, 0, 1, 7, 6, 3, 2, 1, 7, 4, 6, 3, 1,\n",
          "       3, 9, 1, 7, 6, 8, 4, 3, 1, 4, 0, 5, 3, 6, 9, 6, 1, 7, 5, 4, 4, 7,\n",
          "       2, 8, 2, 2, 5, 7, 9, 5, 4, 8, 8, 4, 9, 0, 8, 9, 8, 0, 1, 2, 3, 4,\n",
          "       5, 6, 7, 8, 9, 0, 1, 2, 3, 4, 5, 6, 7, 8, 9, 0, 1, 2, 3, 4, 5, 6,\n",
          "       7, 8, 9, 0, 9, 5, 5, 6, 5, 0, 9, 8, 9, 8, 4, 1, 7, 7, 3, 5, 1, 0,\n",
          "       0, 2, 2, 7, 8, 2, 0, 1, 2, 6, 3, 3, 7, 3, 3, 4, 6, 6, 6, 4, 9, 1,\n",
          "       5, 0, 9, 5, 2, 8, 2, 0, 0, 1, 7, 6, 3, 2, 1, 7, 4, 6, 3, 1, 3, 9,\n",
          "       1, 7, 6, 8, 4, 3, 1, 4, 0, 5, 3, 6, 9, 6, 1, 7, 5, 4, 4, 7, 2, 8,\n",
          "       2, 2, 5, 7, 9, 5, 4, 8, 8, 4, 9, 0, 8, 9, 8, 0, 1, 2, 3, 4, 5, 6,\n",
          "       7, 8, 9, 0, 1, 2, 3, 4, 5, 6, 7, 8, 9, 0, 1, 2, 3, 4, 5, 6, 7, 8,\n",
          "       9, 0, 9, 5, 5, 6, 5, 0, 9, 8, 9, 8, 4, 1, 7, 7, 3, 5, 1, 0, 0, 2,\n",
          "       2, 7, 8, 2, 0, 1, 2, 6, 3, 3, 7, 3, 3, 4, 6, 6, 6, 4, 9, 1, 5, 0,\n",
          "       9, 5, 2, 8, 2, 0, 0, 1, 7, 6, 3, 2, 1, 7, 4, 6, 3, 1, 3, 9, 1, 7,\n",
          "       6, 8, 4, 3, 1, 4, 0, 5, 3, 6, 9, 6, 1, 7, 5, 4, 4, 7, 2, 8, 2, 2,\n",
          "       5, 7, 9, 5, 4, 8, 8, 4, 9, 0, 8, 0, 1, 2, 3, 4, 5, 6, 7, 8, 9, 0,\n",
          "       1, 2, 3, 4, 5, 6, 7, 8, 9, 0, 1, 2, 3, 4, 5, 6, 7, 8, 9, 0, 9, 5,\n",
          "       5, 6, 5, 0, 9, 8, 9, 8, 4, 1, 7, 7, 3, 5, 1, 0, 0, 2, 2, 7, 8, 2,\n",
          "       0, 1, 2, 6, 3, 3, 7, 3, 3, 4, 6, 6, 6, 4, 9, 1, 5, 0, 9, 5, 2, 8,\n",
          "       2, 0, 0, 1, 7, 6, 3, 2, 1, 7, 4, 6, 3, 1, 3, 9, 1, 7, 6, 8, 4, 3,\n",
          "       1, 4, 0, 5, 3, 6, 9, 6, 1, 7, 5, 4, 4, 7, 2, 8, 2, 2, 5, 7, 9, 5,\n",
          "       4, 8, 8, 4, 9, 0, 8, 9, 8, 0, 1, 2, 3, 4, 5, 6, 7, 8, 9, 0, 1, 2,\n",
          "       3, 4, 5, 6, 9, 0, 1, 2, 3, 4, 5, 6, 7, 8, 9, 0, 9, 5, 5, 6, 5, 0,\n",
          "       9, 8, 9, 8, 4, 1, 7, 7, 3, 5, 1, 0, 0, 2, 2, 7, 8, 2, 0, 1, 2, 6,\n",
          "       3, 3, 7, 3, 3, 4, 6, 6, 6, 4, 9, 1, 5, 0, 9, 5, 2, 8, 0, 1, 7, 6,\n",
          "       3, 2, 1, 7, 4, 6, 3, 1, 3, 9, 1, 7, 6, 8, 4, 3, 1, 4, 0, 5, 3, 6,\n",
          "       9, 6, 1, 7, 5, 4, 4, 7, 2, 2, 5, 7, 9, 5, 4, 4, 9, 0, 8, 9, 8, 0,\n",
          "       1, 2, 3, 4, 5, 6, 7, 8, 9, 0, 1, 2, 3, 4, 5, 6, 7, 8, 9, 0, 1, 2,\n",
          "       3, 4, 5, 6, 7, 8, 9, 0, 9, 5, 5, 6, 5, 0, 9, 8, 9, 8, 4, 1, 7, 7,\n",
          "       3, 5, 1, 0, 0, 2, 2, 7, 8, 2, 0, 1, 2, 6, 3, 3, 7, 3, 3, 4, 6, 6,\n",
          "       6, 4, 9, 1, 5, 0, 9, 5, 2, 8, 2, 0, 0, 1, 7, 6, 3, 2, 1, 7, 4, 6,\n",
          "       3, 1, 3, 9, 1, 7, 6, 8, 4, 3, 1, 4, 0, 5, 3, 6, 9, 6, 1, 7, 5, 4,\n",
          "       4, 7, 2, 8, 2, 2, 5, 7, 9, 5, 4, 8, 8, 4, 9, 0, 8, 9, 8])"
         ]
        },
        "execution_count": 795050190,
        "metadata": {
         "output_tag": "expected"
        },
        "output_type": "execute_result"
       },
       {
        "data": {
         "text/plain": [
          "array([8, 8, 4, 9, 0, 8, 9, 8, 1, 2, 3, 4, 5, 6, 7, 8, 9, 0, 1, 2, 3, 4,\n",
          "       5, 6, 7, 8, 9, 0, 1, 2, 3, 4, 9, 6, 7, 8, 9, 0, 9, 5, 5, 6, 5, 0,\n",
          "       9, 8, 9, 8, 4, 1, 7, 7, 3, 9, 1, 2, 7, 8, 2, 0, 1, 2, 6, 3, 3, 7,\n",
          "       3, 3, 4, 6, 6, 6, 4, 9, 1, 5, 0, 9, 5, 2, 8, 2, 0, 0, 1, 7, 6, 3,\n",
          "       2, 1, 4, 6, 3, 1, 3, 9, 1, 7, 6, 8, 4, 3, 1, 4, 0, 5, 3, 6, 9, 6,\n",
          "       1, 7, 5, 4, 4, 7, 2, 8, 2, 2, 5, 7, 9, 5, 4, 4, 9, 0, 8, 9, 8, 0,\n",
          "       1, 2, 3, 4, 5, 6, 7, 8, 9, 0, 1, 2, 3, 4, 5, 6, 7, 8, 9, 0, 1, 2,\n",
          "       3, 4, 5, 6, 7, 8, 9, 0, 9, 5, 5, 6, 5, 0, 9, 8, 9, 8, 4, 1, 7, 7,\n",
          "       3, 5, 1, 0, 0, 7, 8, 2, 0, 1, 2, 6, 3, 3, 7, 3, 3, 4, 6, 6, 6, 9,\n",
          "       9, 1, 5, 0, 9, 5, 2, 8, 2, 0, 0, 1, 7, 6, 3, 2, 1, 5, 4, 6, 3, 1,\n",
          "       7, 9, 1, 7, 6, 8, 4, 3, 1, 4, 0, 5, 3, 6, 9, 6, 1, 7, 5, 4, 4, 7,\n",
          "       2, 8, 2, 2, 5, 7, 9, 5, 4, 8, 8, 4, 9, 0, 8, 9, 8, 0, 1, 2, 3, 4,\n",
          "       5, 6, 7, 8, 9, 0, 1, 2, 3, 4, 5, 6, 7, 8, 9, 0, 1, 2, 3, 4, 5, 6,\n",
          "       7, 8, 9, 0, 9, 5, 5, 6, 5, 0, 9, 8, 9, 8, 4, 1, 7, 7, 3, 5, 1, 0,\n",
          "       0, 2, 2, 7, 8, 2, 0, 1, 2, 6, 3, 3, 7, 3, 3, 4, 6, 6, 6, 4, 9, 1,\n",
          "       5, 0, 9, 5, 2, 8, 2, 0, 0, 1, 7, 6, 3, 2, 2, 7, 4, 6, 3, 1, 3, 9,\n",
          "       1, 7, 6, 8, 4, 3, 1, 4, 0, 5, 3, 6, 9, 6, 8, 7, 5, 4, 4, 7, 2, 8,\n",
          "       2, 2, 5, 7, 9, 5, 4, 8, 8, 4, 9, 0, 8, 9, 8, 0, 9, 2, 3, 4, 5, 6,\n",
          "       7, 8, 9, 0, 1, 2, 3, 4, 5, 6, 7, 8, 9, 0, 1, 2, 3, 4, 5, 6, 7, 8,\n",
          "       9, 0, 9, 5, 5, 6, 5, 0, 9, 8, 9, 8, 4, 1, 7, 7, 3, 5, 1, 0, 0, 2,\n",
          "       2, 7, 8, 2, 0, 1, 2, 6, 3, 3, 7, 3, 3, 4, 6, 6, 6, 4, 9, 1, 5, 0,\n",
          "       9, 6, 2, 8, 3, 0, 0, 1, 7, 6, 3, 2, 1, 7, 4, 6, 3, 1, 3, 9, 1, 7,\n",
          "       6, 8, 4, 3, 1, 4, 0, 5, 3, 6, 9, 6, 1, 7, 5, 4, 4, 7, 2, 8, 2, 2,\n",
          "       5, 7, 9, 5, 4, 8, 8, 4, 9, 0, 8, 0, 1, 2, 3, 4, 5, 6, 7, 8, 9, 0,\n",
          "       1, 2, 3, 4, 5, 6, 7, 8, 9, 0, 1, 2, 3, 4, 5, 6, 7, 8, 9, 0, 9, 5,\n",
          "       5, 6, 5, 0, 9, 8, 9, 8, 4, 1, 7, 7, 3, 5, 1, 0, 0, 2, 2, 7, 8, 2,\n",
          "       0, 1, 2, 6, 3, 3, 7, 3, 3, 4, 6, 6, 6, 4, 9, 1, 5, 0, 9, 5, 2, 8,\n",
          "       2, 0, 0, 1, 7, 6, 3, 2, 1, 7, 4, 6, 3, 1, 3, 9, 1, 7, 6, 8, 4, 3,\n",
          "       1, 4, 0, 5, 3, 6, 9, 6, 1, 7, 5, 4, 4, 7, 2, 8, 2, 2, 5, 7, 9, 5,\n",
          "       4, 8, 8, 4, 9, 0, 8, 9, 8, 0, 1, 2, 3, 4, 5, 1, 7, 8, 9, 0, 1, 2,\n",
          "       3, 4, 5, 6, 9, 0, 1, 2, 3, 4, 5, 6, 7, 8, 9, 4, 9, 5, 5, 6, 5, 0,\n",
          "       9, 8, 9, 8, 4, 1, 7, 7, 3, 5, 1, 0, 0, 2, 2, 7, 8, 2, 0, 1, 2, 6,\n",
          "       8, 7, 7, 7, 3, 4, 6, 6, 6, 9, 9, 1, 5, 0, 9, 5, 2, 8, 0, 1, 7, 6,\n",
          "       3, 2, 1, 7, 9, 6, 3, 1, 3, 9, 1, 7, 6, 8, 4, 3, 1, 4, 0, 5, 3, 6,\n",
          "       9, 6, 1, 7, 5, 4, 4, 7, 2, 2, 5, 7, 3, 5, 9, 4, 5, 0, 8, 9, 8, 0,\n",
          "       1, 2, 3, 4, 5, 6, 7, 8, 9, 0, 1, 2, 8, 4, 5, 6, 7, 8, 9, 0, 1, 2,\n",
          "       5, 4, 5, 6, 7, 8, 9, 0, 9, 5, 5, 6, 5, 0, 9, 8, 9, 8, 4, 1, 7, 7,\n",
          "       7, 5, 1, 0, 0, 2, 2, 7, 8, 2, 0, 1, 2, 6, 8, 8, 7, 5, 8, 4, 6, 6,\n",
          "       6, 4, 9, 1, 5, 0, 9, 5, 2, 8, 2, 0, 0, 1, 7, 6, 3, 2, 1, 7, 4, 6,\n",
          "       3, 1, 3, 9, 1, 7, 6, 8, 4, 5, 1, 4, 0, 5, 3, 6, 9, 6, 1, 7, 5, 4,\n",
          "       4, 7, 2, 8, 2, 2, 5, 7, 9, 5, 4, 8, 8, 4, 9, 0, 8, 9, 8])"
         ]
        },
        "execution_count": 795050190,
        "metadata": {
         "output_tag": "predicted"
        },
        "output_type": "execute_result"
       }
      ],
      "source": [
       "# Now predict the value of the digit on the second half:\n",
       "expected,predicted = y_test$182d1eba, classifier$f174dea0.predict(X_test$182d1eba)"
      ]
     },
     {
      "cell_type": "code",
      "execution_count": 1418661199,
      "id": "548f0d4f-6acb-4d83-9ae2-4503b90ae66e",
      "metadata": {},
      "outputs": [
       {
        "name": "stdout",
        "output_type": "stream",
        "text": [
         "              precision    recall  f1-score   support\n",
         "\n",
         "           0       1.00      0.99      0.99        88\n",
         "           1       0.99      0.97      0.98        91\n",
         "           2       0.99      0.99      0.99        86\n",
         "           3       0.98      0.87      0.92        91\n",
         "           4       0.99      0.96      0.97        92\n",
         "           5       0.95      0.97      0.96        91\n",
         "           6       0.99      0.99      0.99        91\n",
         "           7       0.96      0.99      0.97        89\n",
         "           8       0.94      1.00      0.97        88\n",
         "           9       0.93      0.98      0.95        92\n",
         "\n",
         "    accuracy                           0.97       899\n",
         "   macro avg       0.97      0.97      0.97       899\n",
         "weighted avg       0.97      0.97      0.97       899\n",
         "\n"
        ]
       }
      ],
      "source": [
       "# Classification report\n",
       "print(metrics$5fe45813.classification_report(expected$2f6380ce, predicted$2f6380ce))"
      ]
     },
     {
      "cell_type": "code",
      "execution_count": 4033232963,
      "id": "f0664043-0bff-4029-82d6-2d167b075e2b",
      "metadata": {},
      "outputs": [
       {
        "data": {
         "text/html": [
          "<div>\n",
          "<style scoped>\n",
          "    .dataframe tbody tr th:only-of-type {\n",
          "        vertical-align: middle;\n",
          "    }\n",
          "\n",
          "    .dataframe tbody tr th {\n",
          "        vertical-align: top;\n",
          "    }\n",
          "\n",
          "    .dataframe thead th {\n",
          "        text-align: right;\n",
          "    }\n",
          "</style>\n",
          "<table border=\"1\" class=\"dataframe\">\n",
          "  <thead>\n",
          "    <tr style=\"text-align: right;\">\n",
          "      <th></th>\n",
          "      <th>precision</th>\n",
          "      <th>recall</th>\n",
          "      <th>f1-score</th>\n",
          "      <th>support</th>\n",
          "    </tr>\n",
          "  </thead>\n",
          "  <tbody>\n",
          "    <tr>\n",
          "      <th>0</th>\n",
          "      <td>1.000000</td>\n",
          "      <td>0.988636</td>\n",
          "      <td>0.994286</td>\n",
          "      <td>88.0</td>\n",
          "    </tr>\n",
          "    <tr>\n",
          "      <th>1</th>\n",
          "      <td>0.988764</td>\n",
          "      <td>0.967033</td>\n",
          "      <td>0.977778</td>\n",
          "      <td>91.0</td>\n",
          "    </tr>\n",
          "    <tr>\n",
          "      <th>2</th>\n",
          "      <td>0.988372</td>\n",
          "      <td>0.988372</td>\n",
          "      <td>0.988372</td>\n",
          "      <td>86.0</td>\n",
          "    </tr>\n",
          "    <tr>\n",
          "      <th>3</th>\n",
          "      <td>0.975309</td>\n",
          "      <td>0.868132</td>\n",
          "      <td>0.918605</td>\n",
          "      <td>91.0</td>\n",
          "    </tr>\n",
          "    <tr>\n",
          "      <th>4</th>\n",
          "      <td>0.988764</td>\n",
          "      <td>0.956522</td>\n",
          "      <td>0.972376</td>\n",
          "      <td>92.0</td>\n",
          "    </tr>\n",
          "    <tr>\n",
          "      <th>5</th>\n",
          "      <td>0.946237</td>\n",
          "      <td>0.967033</td>\n",
          "      <td>0.956522</td>\n",
          "      <td>91.0</td>\n",
          "    </tr>\n",
          "    <tr>\n",
          "      <th>6</th>\n",
          "      <td>0.989011</td>\n",
          "      <td>0.989011</td>\n",
          "      <td>0.989011</td>\n",
          "      <td>91.0</td>\n",
          "    </tr>\n",
          "    <tr>\n",
          "      <th>7</th>\n",
          "      <td>0.956522</td>\n",
          "      <td>0.988764</td>\n",
          "      <td>0.972376</td>\n",
          "      <td>89.0</td>\n",
          "    </tr>\n",
          "    <tr>\n",
          "      <th>8</th>\n",
          "      <td>0.936170</td>\n",
          "      <td>1.000000</td>\n",
          "      <td>0.967033</td>\n",
          "      <td>88.0</td>\n",
          "    </tr>\n",
          "    <tr>\n",
          "      <th>9</th>\n",
          "      <td>0.927835</td>\n",
          "      <td>0.978261</td>\n",
          "      <td>0.952381</td>\n",
          "      <td>92.0</td>\n",
          "    </tr>\n",
          "  </tbody>\n",
          "</table>\n",
          "</div>"
         ],
         "text/plain": [
          "   precision    recall  f1-score  support\n",
          "0   1.000000  0.988636  0.994286     88.0\n",
          "1   0.988764  0.967033  0.977778     91.0\n",
          "2   0.988372  0.988372  0.988372     86.0\n",
          "3   0.975309  0.868132  0.918605     91.0\n",
          "4   0.988764  0.956522  0.972376     92.0\n",
          "5   0.946237  0.967033  0.956522     91.0\n",
          "6   0.989011  0.989011  0.989011     91.0\n",
          "7   0.956522  0.988764  0.972376     89.0\n",
          "8   0.936170  1.000000  0.967033     88.0\n",
          "9   0.927835  0.978261  0.952381     92.0"
         ]
        },
        "execution_count": 4033232963,
        "metadata": {},
        "output_type": "execute_result"
       }
      ],
      "source": [
       "# Classification report with pandas formatting\n",
       "prfs = metrics$5fe45813.precision_recall_fscore_support(expected$2f6380ce, predicted$2f6380ce)\n",
       "pd$5fe45813.DataFrame.from_records(prfs)\\\n",
       "    .transpose()\\\n",
       "    .rename(columns={i: c for i,c in enumerate(['precision', 'recall', 'f1-score', 'support'])})"
      ]
     },
     {
      "cell_type": "code",
      "execution_count": 3212573332,
      "id": "bf7bfa94-9fad-41cc-a8b2-a4f74b960359",
      "metadata": {},
      "outputs": [
       {
        "data": {
         "text/plain": [
          "array([[87,  0,  0,  0,  1,  0,  0,  0,  0,  0],\n",
          "       [ 0, 88,  1,  0,  0,  0,  0,  0,  1,  1],\n",
          "       [ 0,  0, 85,  1,  0,  0,  0,  0,  0,  0],\n",
          "       [ 0,  0,  0, 79,  0,  3,  0,  4,  5,  0],\n",
          "       [ 0,  0,  0,  0, 88,  0,  0,  0,  0,  4],\n",
          "       [ 0,  0,  0,  0,  0, 88,  1,  0,  0,  2],\n",
          "       [ 0,  1,  0,  0,  0,  0, 90,  0,  0,  0],\n",
          "       [ 0,  0,  0,  0,  0,  1,  0, 88,  0,  0],\n",
          "       [ 0,  0,  0,  0,  0,  0,  0,  0, 88,  0],\n",
          "       [ 0,  0,  0,  1,  0,  1,  0,  0,  0, 90]], dtype=int64)"
         ]
        },
        "execution_count": 3212573332,
        "metadata": {},
        "output_type": "execute_result"
       }
      ],
      "source": [
       "# Confusion matrix\n",
       "metrics$5fe45813.confusion_matrix(expected$2f6380ce, predicted$2f6380ce)"
      ]
     },
     {
      "cell_type": "code",
      "execution_count": 616985016,
      "id": "24c671b8-b0b8-45e5-8029-cabc1b6c02e1",
      "metadata": {},
      "outputs": [
       {
        "data": {
         "image/png": "[encoded data removed]",
         "text/plain": [
          "<Figure size 640x480 with 4 Axes>"
         ]
        },
        "execution_count": 616985016,
        "metadata": {},
        "output_type": "display_data"
       }
      ],
      "source": [
       "pairs = zip(X_test$182d1eba, predicted$2f6380ce)\n",
       "\n",
       "for index, (image, prediction) in enumerate(islice$fabcecd2(pairs,4)):\n",
       "    plt$5fe45813.subplot(1, 4, index + 1)\n",
       "    plt$5fe45813.axis('off')\n",
       "    plt$5fe45813.imshow(image.reshape((8,8)), cmap=plt$5fe45813.cm.gray_r, interpolation='nearest')\n",
       "    plt$5fe45813.title('Prediction: %i' % prediction)"
      ]
     },
     {
      "cell_type": "code",
      "execution_count": null,
      "id": "d8b86deb-a723-4aec-be69-f1dbb2239297",
      "metadata": {},
      "outputs": [],
      "source": []
     }
    ],
    "metadata": {
     "dfnotebook": true,
     "kernelspec": {
      "display_name": "DFPython 3",
      "language": "python",
      "name": "dfpython3"
     },
     "language_info": {
      "codemirror_mode": {
       "name": "ipython",
       "version": 3
      },
      "file_extension": ".py",
      "mimetype": "text/x-python",
      "name": "python",
      "nbconvert_exporter": "python",
      "pygments_lexer": "ipython3",
      "version": "3.12.3"
     }
    },
    "nbformat": 4,
    "nbformat_minor": 5
   }
   